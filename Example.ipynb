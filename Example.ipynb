{
  "nbformat": 4,
  "nbformat_minor": 0,
  "metadata": {
    "colab": {
      "name": "Example.ipynb",
      "provenance": []
    },
    "kernelspec": {
      "name": "python3",
      "display_name": "Python 3"
    }
  },
  "cells": [
    {
      "cell_type": "markdown",
      "metadata": {
        "id": "61cNCO5RLj3H",
        "colab_type": "text"
      },
      "source": [
        "# Example Notebook to test functionality"
      ]
    },
    {
      "cell_type": "code",
      "metadata": {
        "id": "S2HMna1KLnYR",
        "colab_type": "code",
        "colab": {}
      },
      "source": [
        ""
      ],
      "execution_count": 0,
      "outputs": []
    }
  ]
}